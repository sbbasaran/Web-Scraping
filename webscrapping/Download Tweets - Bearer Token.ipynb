{
 "cells": [
  {
   "cell_type": "markdown",
   "id": "ea0bb035",
   "metadata": {},
   "source": [
    "# Download Tweets"
   ]
  },
  {
   "cell_type": "code",
   "execution_count": 1,
   "id": "3836939b",
   "metadata": {},
   "outputs": [],
   "source": [
    "import tweepy\n",
    "import pandas as pd\n",
    "import matplotlib.pyplot as plt\n",
    "import time"
   ]
  },
  {
   "cell_type": "markdown",
   "id": "608ca076",
   "metadata": {},
   "source": [
    "# Authentication\n"
   ]
  },
  {
   "cell_type": "code",
   "execution_count": 2,
   "id": "e4174640",
   "metadata": {},
   "outputs": [],
   "source": [
    "bearer_token = \"#\"\n",
    "client = tweepy.Client(bearer_token=bearer_token, wait_on_rate_limit=True)\n"
   ]
  },
  {
   "cell_type": "markdown",
   "id": "19bb79a2",
   "metadata": {},
   "source": [
    "# Get Tweet Counts\n"
   ]
  },
  {
   "cell_type": "code",
   "execution_count": null,
   "id": "55c13a80",
   "metadata": {},
   "outputs": [],
   "source": [
    "def get_tweet_counts(keyword, start_time, end_time, retweet=False):\n",
    "    \n",
    "    if retweet:\n",
    "        query = f'{keyword} lang:tr'\n",
    "    else:\n",
    "        query = f'{keyword} lang:tr -is:retweet'\n",
    "        \n",
    "    counts = client.get_all_tweets_count(query=query, granularity='day',\n",
    "                                         start_time=start_time, end_time=end_time)\n",
    "    \n",
    "    df = pd.DataFrame(counts.data)\n",
    "    df = df[[\"start\", \"tweet_count\"]]\n",
    "    df[\"start\"] = pd.to_datetime(df[\"start\"]).dt.date\n",
    "    df.rename({\"start\":\"date\"}, axis=1, inplace=True)\n",
    "    df[\"keyword\"] = keyword\n",
    "    return df"
   ]
  },
  {
   "cell_type": "code",
   "execution_count": null,
   "id": "dffd1fa4",
   "metadata": {},
   "outputs": [],
   "source": [
    "get_tweet_counts(\"#\", start_time=\"2022-03-01T00:00:00Z\", end_time=\"2022-04-01T00:00:00Z\", retweet = True)"
   ]
  },
  {
   "cell_type": "code",
   "execution_count": null,
   "id": "e843978c",
   "metadata": {},
   "outputs": [],
   "source": [
    "client.get_all_tweets_count(query=\"#\", granularity='day',\n",
    "                                         start_time=\"2022-03-01T00:00:00Z\", end_time=\"2022-04-01T00:00:00Z\").data"
   ]
  },
  {
   "cell_type": "code",
   "execution_count": null,
   "id": "02da8422",
   "metadata": {},
   "outputs": [],
   "source": [
    "keywords = []\n",
    "\n",
    "_keywords = []\n",
    "_keywords = []\n",
    "_keywords = []\n",
    "_keywords = []\n",
    "_keywords = []\n",
    "\n",
    "keywords_lists = [_keywords, _keywords, _keywords, _keywords,_keywords]\n",
    "keywords_lists_str = [\"\", \"\", \"\", \"\", \"\"]"
   ]
  },
  {
   "cell_type": "code",
   "execution_count": null,
   "id": "423234f9",
   "metadata": {},
   "outputs": [],
   "source": [
    "keywords = keywords[:-4]\n",
    "tweet_counts = tweet_counts[tweet_counts[\"keyword\"].isin(keywords)].sort_values([\"keyword\", \"date\"]).reset_index(drop=True)"
   ]
  },
  {
   "cell_type": "code",
   "execution_count": null,
   "id": "58016d2e",
   "metadata": {},
   "outputs": [],
   "source": [
    "pd.DataFrame(tweet_counts.groupby(\"keyword\")[\"tweet_count\"].sum().sort_values(ascending=False)).reset_index()\n"
   ]
  },
  {
   "cell_type": "code",
   "execution_count": null,
   "id": "9daa47aa",
   "metadata": {},
   "outputs": [],
   "source": [
    "tweet_counts[\"tweet_count\"].sum()\n"
   ]
  },
  {
   "cell_type": "code",
   "execution_count": null,
   "id": "b38f5e4b",
   "metadata": {},
   "outputs": [],
   "source": [
    "start_time=\"2022-03-01T00:00:00Z\", end_time=\"2022-04-01T00:00:00Z\""
   ]
  },
  {
   "cell_type": "code",
   "execution_count": null,
   "id": "8f27ff73",
   "metadata": {},
   "outputs": [],
   "source": [
    "def time_formatter(time):\n",
    "    return f\"{'T'.join(str(time).split())}Z\""
   ]
  },
  {
   "cell_type": "markdown",
   "id": "fc83787b",
   "metadata": {},
   "source": [
    "# Download"
   ]
  },
  {
   "cell_type": "code",
   "execution_count": null,
   "id": "beddb0e7",
   "metadata": {},
   "outputs": [],
   "source": [
    "keywords = []\n",
    "\n",
    "#_keywords = []\n",
    "#_keywords = []\n",
    "#_keywords = []\n",
    "#_keywords = []\n",
    "#_keywords = []\n",
    "\n",
    "keywords_lists = [_keywords, _keywords, _keywords,_keywords, _keywords]\n",
    "keywords_lists_str = [\"\", \"\", \"\", \"\", \"\"]"
   ]
  },
  {
   "cell_type": "code",
   "execution_count": null,
   "id": "8634243b",
   "metadata": {},
   "outputs": [],
   "source": [
    "def download_tweets(keyword, start_time, end_time, n_tweets, retweet=False):\n",
    "    \n",
    "    # Formatting start_time and end_time\n",
    "    start_time = time_formatter(start_time)\n",
    "    end_time = time_formatter(end_time)\n",
    "    \n",
    "    \n",
    "    # Defining query based on whether to include retweets or not\n",
    "    if retweet:\n",
    "        query = f'{keyword} lang:tr'\n",
    "    else:\n",
    "        query = f'{keyword} lang:tr -is:retweet'\n",
    "        \n",
    "        \n",
    "    # Get tweet texts, created_at, tweet_id, author_id\n",
    "    tweets = client.search_all_tweets(query=query, tweet_fields=[\"created_at\"], expansions=['author_id'],\n",
    "                         start_time=start_time, end_time=end_time, max_results=n_tweets)\n",
    "    \n",
    "    tweet_texts = []\n",
    "    tweet_created_at = []\n",
    "    tweet_ids = []\n",
    "    author_ids = []\n",
    "    \n",
    "    print(f\"Keyword: {keyword} | Time Range: {str(pd.to_datetime(start_time))[:-6]} - {str(pd.to_datetime(end_time))[:-6]} | # of tweets: {n_tweets}\")\n",
    "    for i, tweet in enumerate(tweets.data):\n",
    "        #print(f\"[{i+1}]\\nTweet: {tweet.text}\\nCreated at: {tweet.created_at}\\nTweet ID: {tweet.id}\\nAuthor ID: {tweet.author_id}\\n\")\n",
    "        tweet_texts.append(tweet.text)\n",
    "        tweet_created_at.append(tweet.created_at)\n",
    "        tweet_ids.append(tweet.id)\n",
    "        author_ids.append(tweet.author_id)\n",
    "        \n",
    "    # Get names and usernames from author_ids\n",
    "    names = []\n",
    "    usernames = []\n",
    "    \n",
    "    i = 0\n",
    "    while i < len(author_ids):\n",
    "        ids = author_ids[i:i+100]\n",
    "        for user in client.get_users(ids=ids).data:\n",
    "            names.append(user.name)\n",
    "            usernames.append(user.username)   \n",
    "        i += 100\n",
    "        \n",
    "    \n",
    "    # Creating DataFrame\n",
    "    df = pd.DataFrame([pd.Series(tweet_texts, name=\"tweet_text\"),\n",
    "                       pd.Series(tweet_created_at, name=\"tweet_created_at\"),\n",
    "                       pd.Series([keyword]*len(tweet_texts), name=\"keyword\"),\n",
    "                       pd.Series(tweet_ids, name=\"tweet_id\"),\n",
    "                       pd.Series(author_ids, name=\"author_id\"),\n",
    "                       pd.Series(names, name=\"author_name\"),\n",
    "                       pd.Series(usernames, name=\"author_username\")]).T\n",
    "    \n",
    "    return df"
   ]
  },
  {
   "cell_type": "code",
   "execution_count": null,
   "id": "8824ff98",
   "metadata": {},
   "outputs": [],
   "source": [
    "time_range = pd.date_range(start=pd.to_datetime(\"2021/11/01\"), end=pd.to_datetime(\"2022/01/01\"), freq=\"H\")\n"
   ]
  },
  {
   "cell_type": "code",
   "execution_count": null,
   "id": "0ea9b200",
   "metadata": {},
   "outputs": [],
   "source": [
    "tweets_df = pd.DataFrame(columns=['tweet_text', 'tweet_created_at', 'keyword', 'tweet_id',\n",
    "                                  'author_id', 'author_name', 'author_username'])"
   ]
  },
  {
   "cell_type": "code",
   "execution_count": null,
   "id": "d1a0f015",
   "metadata": {},
   "outputs": [],
   "source": [
    "time_range"
   ]
  },
  {
   "cell_type": "code",
   "execution_count": null,
   "id": "c1b6bbd7",
   "metadata": {},
   "outputs": [],
   "source": [
    "for i in range(len(time_range)-1):\n",
    "    print(f\"Iteration #{i} in {len(time_range)-1} | Progress: {i/(len(time_range)-1)*100:.2f}%\")\n",
    "    for keyword in keywords:\n",
    "        try:\n",
    "            tweets_df = tweets_df.append(download_tweets(keyword=keyword,\n",
    "                                                         start_time=time_range[i],\n",
    "                                                         end_time=time_range[i+1],\n",
    "                                                         n_tweets=1000,\n",
    "                                                         retweet=False))\n",
    "            print(f\"Total Tweets Downloaded: {tweets_df.shape[0]}\\n\")\n",
    "        except:\n",
    "            print(f\"No tweet for {keyword} in time range {time_range[i]} - {time_range[i+1]}\")\n",
    "        time.sleep(3)\n",
    "    time.sleep(5)\n",
    "        \n",
    "tweets_df.reset_index(drop=True, inplace=True)"
   ]
  },
  {
   "cell_type": "code",
   "execution_count": null,
   "id": "6610c8bf",
   "metadata": {},
   "outputs": [],
   "source": [
    "tweets_df.info()"
   ]
  },
  {
   "cell_type": "code",
   "execution_count": null,
   "id": "1ac462af",
   "metadata": {},
   "outputs": [],
   "source": [
    "tweets_df.to_csv(\"tweets_all_day.csv\", index=False)"
   ]
  }
 ],
 "metadata": {
  "kernelspec": {
   "display_name": "Python 3",
   "language": "python",
   "name": "python3"
  },
  "language_info": {
   "codemirror_mode": {
    "name": "ipython",
    "version": 3
   },
   "file_extension": ".py",
   "mimetype": "text/x-python",
   "name": "python",
   "nbconvert_exporter": "python",
   "pygments_lexer": "ipython3",
   "version": "3.8.2"
  }
 },
 "nbformat": 4,
 "nbformat_minor": 5
}
