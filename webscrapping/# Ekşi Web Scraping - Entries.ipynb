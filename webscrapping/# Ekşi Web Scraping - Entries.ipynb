{
 "cells": [
  {
   "cell_type": "markdown",
   "id": "7fa65a41",
   "metadata": {},
   "source": [
    "# Ekşi Web Scraping - Topics\n"
   ]
  },
  {
   "cell_type": "code",
   "execution_count": 1,
   "id": "54a2170f",
   "metadata": {},
   "outputs": [
    {
     "name": "stderr",
     "output_type": "stream",
     "text": [
      "\n",
      "\n",
      "====== WebDriver manager ======\n",
      "Current google-chrome version is 100.0.4896\n",
      "Get LATEST chromedriver version for 100.0.4896 google-chrome\n",
      "Trying to download new driver from https://chromedriver.storage.googleapis.com/100.0.4896.60/chromedriver_mac64.zip\n",
      "Driver has been saved in cache [/Users/ideakadikoy/.wdm/drivers/chromedriver/mac64/100.0.4896.60]\n",
      "<ipython-input-1-1f0c6ed570f9>:6: DeprecationWarning: executable_path has been deprecated, please pass in a Service object\n",
      "  driver = webdriver.Chrome(ChromeDriverManager().install())\n"
     ]
    }
   ],
   "source": [
    "import numpy as np\n",
    "import pandas as pd\n",
    "from selenium import webdriver\n",
    "from webdriver_manager.chrome import ChromeDriverManager\n",
    "\n",
    "driver = webdriver.Chrome(ChromeDriverManager().install())"
   ]
  },
  {
   "cell_type": "code",
   "execution_count": 2,
   "id": "ce9ffa1f",
   "metadata": {},
   "outputs": [],
   "source": [
    "def eksi_scrap(url):\n",
    "    url = url\n",
    "    driver.get(url)\n",
    "    \n",
    "    entry_item_list = driver.find_elements_by_xpath('//*[@id=\"entry-item-list\"]')[0]\n",
    "    \n",
    "    entries = []\n",
    "    authors = []\n",
    "    dates = []\n",
    "    \n",
    "    for i in range(len(entry_item_list.find_elements_by_class_name(\"content\"))):\n",
    "        entries.append(entry_item_list.find_elements_by_class_name(\"content\")[i].text)\n",
    "        authors.append(entry_item_list.find_elements_by_class_name(\"entry-author\")[i].text)\n",
    "        dates.append(entry_item_list.find_elements_by_class_name(\"entry-date\")[i].text)\n",
    "        \n",
    "    df = pd.DataFrame(columns = [\"Entry\", \"Author\", \"Date\"])\n",
    "    \n",
    "    entries = pd.Series(entries, name='Entry')\n",
    "    authors = pd.Series(authors, name='Author')\n",
    "    dates = pd.Series(dates, name='Date')\n",
    "    \n",
    "    df = df.append(pd.concat([entries, authors, dates], axis=1))\n",
    "    return df"
   ]
  },
  {
   "cell_type": "code",
   "execution_count": 3,
   "id": "29d5b3db",
   "metadata": {},
   "outputs": [],
   "source": [
    "def get_entries(url):\n",
    "    print(f\"Getting Entries in: {url}\")\n",
    "    driver.get(url)\n",
    "    \n",
    "    # Check if the topic was changed to a new one\n",
    "    try:\n",
    "        if driver.find_element_by_xpath('//*[@id=\"title\"]/sup/a'):\n",
    "            old_topic = driver.find_element_by_xpath('//*[@id=\"title\"]/sup/a').get_attribute(\"title\")[1:-15]\n",
    "    except:\n",
    "        old_topic = driver.find_element_by_xpath('//*[@id=\"title\"]/a/span').text\n",
    "    \n",
    "    if driver.find_element_by_xpath('//*[@id=\"entry-author\"]/a').text == 'başlık taşıyan':\n",
    "        url = driver.find_elements_by_xpath('//*[@id=\"entry-item-list\"]')[0].find_element_by_class_name(\"content\").find_element_by_class_name(\"b\").get_attribute(\"href\")\n",
    "        driver.get(url)\n",
    "        \n",
    "    url = driver.current_url\n",
    "    driver.get(url)\n",
    "        \n",
    "    if \"true&rf\" in url:\n",
    "        url = driver.find_element_by_xpath('//*[@id=\"title\"]/a').get_attribute(\"href\")\n",
    "        driver.get(url)\n",
    "    \n",
    "    new_topic = driver.find_element_by_xpath('//*[@id=\"title\"]/a/span').text\n",
    "    \n",
    "    # Check if the topic has more than one page\n",
    "    try:\n",
    "        total_page = driver.find_element_by_xpath('//*[@id=\"topic\"]/div[1]/div[2]/a[1]').text\n",
    "    except:\n",
    "        total_page = 1\n",
    "    \n",
    "    url = url + \"?p=\"\n",
    "    \n",
    "    df = pd.DataFrame(columns = [\"Entry\", \"Author\", \"Date\"])\n",
    "    \n",
    "    i = 1\n",
    "    while True:\n",
    "        try:\n",
    "            df = df.append(eksi_scrap(url + str(i)))\n",
    "            print(f\"Page: {i}|{total_page}\")\n",
    "            i += 1\n",
    "        except:\n",
    "            break\n",
    "            \n",
    "    df = df.reset_index(drop=True)\n",
    "    old_topics = pd.Series([old_topic]*df.shape[0], name=\"Old_Topic\")\n",
    "    new_topics = pd.Series([new_topic]*df.shape[0], name=\"New_Topic\")\n",
    "    \n",
    "    df = pd.concat([df, old_topics, new_topics], axis=1)\n",
    "    return df"
   ]
  },
  {
   "cell_type": "markdown",
   "id": "9f530789",
   "metadata": {},
   "source": [
    "# Kadıköy Mahalle Entries"
   ]
  },
  {
   "cell_type": "code",
   "execution_count": 4,
   "id": "1bc0df86",
   "metadata": {},
   "outputs": [],
   "source": [
    "### = pd.DataFrame(columns = [\"Entry\", \"Author\", \"Date\"])"
   ]
  },
  {
   "cell_type": "code",
   "execution_count": null,
   "id": "ca8ac470",
   "metadata": {},
   "outputs": [],
   "source": [
    "urls = []"
   ]
  },
  {
   "cell_type": "code",
   "execution_count": null,
   "id": "40453f8f",
   "metadata": {},
   "outputs": [],
   "source": [
    "for i, url in enumerate(urls):\n",
    "    try:\n",
    "        caferağa = caferağa.append(get_entries(url))\n",
    "    except:\n",
    "        caferağa = caferağa.append(get_entries(url))"
   ]
  },
  {
   "cell_type": "code",
   "execution_count": null,
   "id": "a585d6c7",
   "metadata": {},
   "outputs": [],
   "source": [
    "##caferağa.head()"
   ]
  },
  {
   "cell_type": "code",
   "execution_count": null,
   "id": "a7061655",
   "metadata": {},
   "outputs": [],
   "source": [
    "caferağa = caferağa.reset_index(drop=True)"
   ]
  },
  {
   "cell_type": "code",
   "execution_count": null,
   "id": "859eb57d",
   "metadata": {},
   "outputs": [],
   "source": [
    "##caferağa.head()"
   ]
  },
  {
   "cell_type": "markdown",
   "id": "211f8b18",
   "metadata": {},
   "source": [
    "# If the entry is edited, Edit is 1, else it is 0.\n"
   ]
  },
  {
   "cell_type": "code",
   "execution_count": null,
   "id": "24b616cb",
   "metadata": {},
   "outputs": [],
   "source": [
    "caferağa['Edited'] = caferağa['Date'].apply(lambda x: True if '~' in x else False)\n",
    "\n",
    "# Edit Date\n",
    "caferağa['Entry_Date'] = pd.to_datetime(caferağa['Date'].apply(lambda x: x.split('~')[0][:-1] if '~' in x else x))\n",
    "caferağa['Edit_Date'] = pd.to_datetime(caferağa['Date'].apply(lambda x: x.split('~')[1][1:] if '~' in x else None))"
   ]
  },
  {
   "cell_type": "code",
   "execution_count": null,
   "id": "8a7b7a1c",
   "metadata": {},
   "outputs": [],
   "source": [
    "caferağa.head()"
   ]
  },
  {
   "cell_type": "code",
   "execution_count": null,
   "id": "771872aa",
   "metadata": {},
   "outputs": [],
   "source": [
    "caferağa.to_csv(\"#.csv\", index=False)"
   ]
  }
 ],
 "metadata": {
  "kernelspec": {
   "display_name": "Python 3",
   "language": "python",
   "name": "python3"
  },
  "language_info": {
   "codemirror_mode": {
    "name": "ipython",
    "version": 3
   },
   "file_extension": ".py",
   "mimetype": "text/x-python",
   "name": "python",
   "nbconvert_exporter": "python",
   "pygments_lexer": "ipython3",
   "version": "3.8.2"
  }
 },
 "nbformat": 4,
 "nbformat_minor": 5
}
